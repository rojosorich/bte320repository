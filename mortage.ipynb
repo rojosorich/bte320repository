{
  "nbformat": 4,
  "nbformat_minor": 0,
  "metadata": {
    "colab": {
      "provenance": []
    },
    "kernelspec": {
      "name": "python3",
      "display_name": "Python 3"
    },
    "language_info": {
      "name": "python"
    }
  },
  "cells": [
    {
      "cell_type": "code",
      "execution_count": null,
      "metadata": {
        "id": "6dA546VtnEte"
      },
      "outputs": [],
      "source": [
        "class Mortage:\n",
        "  def __init__(self, amount, maturity, interest):\n",
        "    self.amount = amount\n",
        "    self.maturity = maturity\n",
        "    self.__interest = interest\n",
        "\n",
        "  def __str__(self):\n",
        "    return f\"Mortage info\\n Initial loan amount: {self.amount}\\n Maturity Term: {self.maturity}\\n Interest{self.__interest}\"\n",
        "  def get_interest(self):\n",
        "    return self.__interest\n",
        "\n",
        "  def set_interest(self, newInterest):\n",
        "    if newInterest >= 0:\n",
        "      self.__interest = newInterest\n",
        "    else:\n",
        "      print('Interest must be non-negative!')\n",
        "\n",
        "  def payment(self):\n",
        "    B = slef.amount\n",
        "    n = self.maturity * 12\n",
        "    r = self.__interest /100\n",
        "\n",
        "    return B * (r * (1+r) ** n / (1+r) ** n - 1)\n"
      ]
    },
    {
      "cell_type": "code",
      "source": [
        "class A:\n",
        "  def __init__(self,obj):\n",
        "    self.obj = obj\n",
        "  def WhoAmI(self):\n",
        "    print('I am an instance of class A.')\n",
        "  def __str__(self):\n",
        "    return f\"<attribute value: {self.obj}\"\n",
        "  def __eq__(self):\n",
        "\n",
        "\n",
        "\n",
        "class B:\n",
        "    def __init__(self,obj):\n",
        "    self.obj = obj\n",
        "  def WhoAmI(self):\n",
        "    print('I am an instance of class A.')\n",
        "\n",
        "\n",
        "a1 =\n",
        "a2 ="
      ],
      "metadata": {
        "colab": {
          "base_uri": "https://localhost:8080/",
          "height": 108
        },
        "id": "seBhR1N8qISO",
        "outputId": "123b22d6-5f19-4182-dba0-5935cacc5525"
      },
      "execution_count": null,
      "outputs": [
        {
          "output_type": "error",
          "ename": "IndentationError",
          "evalue": "unindent does not match any outer indentation level (<tokenize>, line 15)",
          "traceback": [
            "\u001b[0;36m  File \u001b[0;32m\"<tokenize>\"\u001b[0;36m, line \u001b[0;32m15\u001b[0m\n\u001b[0;31m    def WhoAmI(self):\u001b[0m\n\u001b[0m    ^\u001b[0m\n\u001b[0;31mIndentationError\u001b[0m\u001b[0;31m:\u001b[0m unindent does not match any outer indentation level\n"
          ]
        }
      ]
    }
  ]
}