{
  "nbformat": 4,
  "nbformat_minor": 0,
  "metadata": {
    "colab": {
      "provenance": []
    },
    "kernelspec": {
      "name": "python3",
      "display_name": "Python 3"
    },
    "language_info": {
      "name": "python"
    }
  },
  "cells": [
    {
      "cell_type": "code",
      "execution_count": 5,
      "metadata": {
        "colab": {
          "base_uri": "https://localhost:8080/"
        },
        "id": "bfJYP_xow9g3",
        "outputId": "0aeac18b-14b1-4caa-bc28-38e38db0d070"
      },
      "outputs": [
        {
          "output_type": "stream",
          "name": "stdout",
          "text": [
            "Enter Date (mm/dd/yyyy): 02/21/2024\n",
            "02 21 2024\n"
          ]
        }
      ],
      "source": [
        "date = (input(\"Enter Date (mm/dd/yyyy): \"))\n",
        "month = date[0:2]\n",
        "day = date[3:5]\n",
        "year = date[6:10]\n",
        "\n",
        "print(month,day,year)\n"
      ]
    }
  ]
}