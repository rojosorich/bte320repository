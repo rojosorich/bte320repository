{
  "nbformat": 4,
  "nbformat_minor": 0,
  "metadata": {
    "colab": {
      "provenance": []
    },
    "kernelspec": {
      "name": "python3",
      "display_name": "Python 3"
    },
    "language_info": {
      "name": "python"
    }
  },
  "cells": [
    {
      "cell_type": "markdown",
      "source": [
        "# Leap Year"
      ],
      "metadata": {
        "id": "vA8DUnqBOppq"
      }
    },
    {
      "cell_type": "code",
      "execution_count": null,
      "metadata": {
        "id": "wFtC-NiJOpU7"
      },
      "outputs": [],
      "source": [
        "year = int(input('Enter a year: '))\n",
        "\n",
        "if (year % 4 == 0 and year % 100 != 0) or (year % 400 == 0):\n",
        "  print(f'{year} is a leap year!')\n",
        "else:\n",
        "  print(f'{year} is not a leap year.')"
      ]
    },
    {
      "cell_type": "markdown",
      "source": [
        "# Movie Theater\n"
      ],
      "metadata": {
        "id": "BI0c9iAIPGiE"
      }
    },
    {
      "cell_type": "code",
      "source": [
        "init_attendees = 20\n",
        "fixed_cost = 200\n",
        "\n",
        "for advertising in range (0, 201, 25):\n",
        "  attendees = float(2*round(advertising**0.5) + init_attendees)\n",
        "  profit = float((attendees * 10 ) - advertising - fixed_cost)\n",
        "  print(f'{advertising} ${profit}')\n",
        "\n"
      ],
      "metadata": {
        "colab": {
          "base_uri": "https://localhost:8080/"
        },
        "id": "HP4kqA1QPKJT",
        "outputId": "563e7e1f-6ae5-42e3-8194-82821315d0fa"
      },
      "execution_count": null,
      "outputs": [
        {
          "output_type": "stream",
          "name": "stdout",
          "text": [
            "0 $0.0\n",
            "25 $75.0\n",
            "50 $90.0\n",
            "75 $105.0\n",
            "100 $100.0\n",
            "125 $95.0\n",
            "150 $90.0\n",
            "175 $85.0\n",
            "200 $80.0\n"
          ]
        }
      ]
    },
    {
      "cell_type": "markdown",
      "source": [
        "# Deposits With Interest Rates\n"
      ],
      "metadata": {
        "id": "5ZZ4es1AQHkR"
      }
    },
    {
      "cell_type": "code",
      "source": [
        "name = input('Enter Your Name: ')\n",
        "customer_type = input('Enter Customer Type (n: new, e: existing): ')\n",
        "deposit = float(input('Enter deposit amount (in $): '))\n",
        "\n",
        "if customer_type == 'n':\n",
        "  interest = 0.03\n",
        "else:\n",
        "  if deposit <= 1000:\n",
        "    interest = 0.03\n",
        "  elif deposit <= 10000:\n",
        "    interest = 0.0325\n",
        "  elif deposit > 10000:\n",
        "    interest = 0.035\n",
        "\n",
        "total = (1 + interest) * deposit\n",
        "print(total)"
      ],
      "metadata": {
        "colab": {
          "base_uri": "https://localhost:8080/"
        },
        "id": "TcZdlFmjQMA5",
        "outputId": "e2b1bee4-873a-4ccc-ec42-145de9c60ae2"
      },
      "execution_count": null,
      "outputs": [
        {
          "output_type": "stream",
          "name": "stdout",
          "text": [
            "Enter Your Name: rojo\n",
            "Enter Customer Type (n: new, e: existing): n\n",
            "Enter deposit amount (in $): 5000\n",
            "5150.0\n"
          ]
        }
      ]
    },
    {
      "cell_type": "markdown",
      "source": [
        "# Date Program\n"
      ],
      "metadata": {
        "id": "4q0GjjB7SXfI"
      }
    },
    {
      "cell_type": "code",
      "source": [
        "months = {}\n",
        "\n",
        "numbers = [1,2,3,4,5,6,7,8,9,10,11,12]\n",
        "names = ['Jan', 'Feb', 'Mar','Apr','May','Jun','Jul','Aug','Sep','Oct','Nov','Dec']\n",
        "\n",
        "for i in range(len(numbers)):\n",
        "  months[numbers[i]] = names[i]\n",
        "  print (months)"
      ],
      "metadata": {
        "id": "SOa7Xh_RSdkJ"
      },
      "execution_count": null,
      "outputs": []
    },
    {
      "cell_type": "markdown",
      "source": [
        "# Rock, Paper, Scissors Game"
      ],
      "metadata": {
        "id": "6uckQPZMSsFj"
      }
    },
    {
      "cell_type": "code",
      "source": [
        "import random\n",
        "\n",
        "pc_choice = random.choice(['Rock', 'Paper','Scissors'])\n",
        "\n",
        "userInput = input('Enter your choice (Rock, Paper, Scissors): ')\n",
        "\n",
        "print(f'Computer:{pc_choice}')\n",
        "\n",
        "if userInput == pc_choice:\n",
        "  print(\"Its a draw!\")\n",
        "elif (userInput == 'Rock' and pc_choice == 'Scissors') or (userInput == 'Paper' and pc_choice == 'Rock') or (userInput == 'Scissors' and pc_choice == 'Paper'):\n",
        "  print(\"You Win!\")\n",
        "else:\n",
        "  print(\"You Lose!\")\n"
      ],
      "metadata": {
        "id": "Q_812snqUEC7"
      },
      "execution_count": null,
      "outputs": []
    },
    {
      "cell_type": "markdown",
      "source": [
        "# List Creator\n"
      ],
      "metadata": {
        "id": "o9g30kgnUT-c"
      }
    },
    {
      "cell_type": "code",
      "source": [
        "L = []\n",
        "\n",
        "number = int(input('Enter a value: '))\n",
        "\n",
        "while number != 0:\n",
        "  L.append(number)\n",
        "  number = int(input('Enter a value: '))\n",
        "\n"
      ],
      "metadata": {
        "id": "VUhu_no7UaQA"
      },
      "execution_count": null,
      "outputs": []
    },
    {
      "cell_type": "markdown",
      "source": [
        "# Calculator"
      ],
      "metadata": {
        "id": "c2iQibo4U_GW"
      }
    },
    {
      "cell_type": "code",
      "source": [
        "while True:\n",
        "    input1 = input('Enter First Number: ')\n",
        "    if input1.lower() == 'break':\n",
        "        print('Goodbye!')\n",
        "        break\n",
        "    else:\n",
        "        input1 = float(input1)\n",
        "\n",
        "    operator = input('Choose an Operator (+, -, *, /, //, %, **): ')\n",
        "    if operator == '+':\n",
        "        input2 = float(input('Enter Second Number: '))\n",
        "        print(input1 + input2)\n",
        "    elif operator == '-':\n",
        "        input2 = float(input('Enter Second Number: '))\n",
        "        print(input1 - input2)\n",
        "    elif operator == '*':\n",
        "        input2 = float(input('Enter Second Number: '))\n",
        "        print(input1 * input2)\n",
        "    elif operator == '/':\n",
        "        input2 = float(input('Enter Second Number: '))\n",
        "        if input2 != 0:\n",
        "            print(input1 / input2)\n",
        "        else:\n",
        "            print(\"Error: Division by zero!\")\n",
        "    elif operator == '//':\n",
        "        input2 = float(input('Enter Second Number: '))\n",
        "        if input2 != 0:\n",
        "            print(input1 // input2)\n",
        "        else:\n",
        "            print(\"Error: Division by zero!\")\n",
        "    elif operator == '%':\n",
        "        input2 = float(input('Enter Second Number: '))\n",
        "        if input2 != 0:\n",
        "            print(input1 % input2)\n",
        "        else:\n",
        "            print(\"Error: Division by zero!\")\n",
        "    elif operator == '**':\n",
        "        input2 = float(input('Enter Second Number: '))\n",
        "        print(input1 ** input2)\n",
        "    elif operator.lower() == 'break':\n",
        "        print('Goodbye!')\n",
        "        break\n",
        "    else:\n",
        "        print(\"Invalid operator!\")\n",
        "\n"
      ],
      "metadata": {
        "id": "H-lOhCNiVHu6"
      },
      "execution_count": null,
      "outputs": []
    },
    {
      "cell_type": "markdown",
      "source": [
        "# Parking Garage"
      ],
      "metadata": {
        "id": "o24jeLN3VbNe"
      }
    },
    {
      "cell_type": "code",
      "source": [
        "hours = int(input('Enter number of hours parked: '))\n",
        "fee = 2.5 * hours\n",
        "\n",
        "if fee <= 6:\n",
        "  print(6)\n",
        "\n",
        "elif fee >= 20:\n",
        "  print(20)\n",
        "else:\n",
        "  print(fee)\n"
      ],
      "metadata": {
        "id": "yeP_VlAxVkOj"
      },
      "execution_count": null,
      "outputs": []
    },
    {
      "cell_type": "markdown",
      "source": [
        "# Populating Dictionary With 2 Variables"
      ],
      "metadata": {
        "id": "UqLfxwx3WRtM"
      }
    },
    {
      "cell_type": "code",
      "source": [
        "months = {}\n",
        "\n",
        "numbers = [1,2,3,4,5,6,7,8,9,10,11,12]\n",
        "names = ['Jan', 'Feb', 'Mar','Apr','May','Jun','Jul','Aug','Sep','Oct','Nov','Dec']\n",
        "\n",
        "for i in range(len(numbers)):\n",
        "  months[numbers[i]] = names[i]\n",
        "  print (months)\n"
      ],
      "metadata": {
        "id": "dfhLTkjzWb6j"
      },
      "execution_count": null,
      "outputs": []
    }
  ]
}